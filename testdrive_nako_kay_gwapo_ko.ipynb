{
  "nbformat": 4,
  "nbformat_minor": 0,
  "metadata": {
    "colab": {
      "provenance": [],
      "authorship_tag": "ABX9TyM9KBmjF0VdqkD2sKcwHTAe",
      "include_colab_link": true
    },
    "kernelspec": {
      "name": "python3",
      "display_name": "Python 3"
    },
    "language_info": {
      "name": "python"
    }
  },
  "cells": [
    {
      "cell_type": "markdown",
      "metadata": {
        "id": "view-in-github",
        "colab_type": "text"
      },
      "source": [
        "<a href=\"https://colab.research.google.com/github/CLcosep/House_Price_Prediction/blob/main/testdrive_nako_kay_gwapo_ko.ipynb\" target=\"_parent\"><img src=\"https://colab.research.google.com/assets/colab-badge.svg\" alt=\"Open In Colab\"/></a>"
      ]
    },
    {
      "cell_type": "markdown",
      "source": [
        "# **House Pricing Prediction**"
      ],
      "metadata": {
        "id": "I_YnKH3UcVQA"
      }
    },
    {
      "cell_type": "markdown",
      "source": [
        "### **Import Library**"
      ],
      "metadata": {
        "id": "fwQoeK7CCg6F"
      }
    },
    {
      "cell_type": "code",
      "execution_count": null,
      "metadata": {
        "id": "iy1T5VWJSh5D"
      },
      "outputs": [],
      "source": [
        "import pandas as pd\n",
        "import numpy as np"
      ]
    },
    {
      "cell_type": "markdown",
      "source": [
        "**Load dataset**"
      ],
      "metadata": {
        "id": "2isdURKYdInL"
      }
    },
    {
      "cell_type": "code",
      "source": [
        "# read csv file\n",
        "data = pd.read_csv('ph_house.csv')\n",
        "print(data.head())"
      ],
      "metadata": {
        "colab": {
          "base_uri": "https://localhost:8080/"
        },
        "id": "wl1Qa6OiS5z7",
        "outputId": "b4706aa6-c0d5-4ab4-ab42-096f466f6a7e"
      },
      "execution_count": null,
      "outputs": [
        {
          "output_type": "stream",
          "name": "stdout",
          "text": [
            "      Location  Size (sqm)  Bedrooms  Bathrooms  Year Built  Lot Size (sqm)  \\\n",
            "0       Makati          50         1          1        2015              75   \n",
            "1  Quezon City          80         2          2        2010             100   \n",
            "2        Pasig         120         3          3        2005             150   \n",
            "3       Taguig         200         4          3        2018             250   \n",
            "4    Cebu City          90         3          2        2012             120   \n",
            "\n",
            "   Price (PHP)  \n",
            "0      6500000  \n",
            "1      8500000  \n",
            "2     12500000  \n",
            "3     18000000  \n",
            "4     10000000  \n"
          ]
        }
      ]
    },
    {
      "cell_type": "markdown",
      "source": [
        "**Split dataset to X and Y variables**"
      ],
      "metadata": {
        "id": "yjk_hupgdioT"
      }
    },
    {
      "cell_type": "code",
      "source": [
        "# age feature for more accuracy\n",
        "current_year = 2025\n",
        "data['Age'] = current_year - data['Year Built']\n",
        "\n",
        "features = ['Location', 'Size (sqm)', 'Bedrooms', 'Lot Size (sqm)', 'Age']\n",
        "X = data[features] #feature\n",
        "y = data['Price (PHP)'] #target\n",
        "\n",
        "# perform one_hot_coding\n",
        "X = pd.get_dummies(X, columns=['Location'], drop_first=True)"
      ],
      "metadata": {
        "id": "uG4NpHkpDT9f"
      },
      "execution_count": null,
      "outputs": []
    },
    {
      "cell_type": "markdown",
      "source": [
        "**Data split**"
      ],
      "metadata": {
        "id": "O2BCRTSud2XC"
      }
    },
    {
      "cell_type": "code",
      "source": [
        "# split data\n",
        "X_train, X_test, y_train, y_test = train_test_split(X, y, test_size=0.2, random_state=42)"
      ],
      "metadata": {
        "id": "J1uJh04XTlQw"
      },
      "execution_count": null,
      "outputs": []
    },
    {
      "cell_type": "markdown",
      "source": [
        "**Import scikit-learn Library**"
      ],
      "metadata": {
        "id": "kw-nrcq5duoj"
      }
    },
    {
      "cell_type": "code",
      "source": [
        "from sklearn.model_selection import train_test_split\n",
        "from sklearn.linear_model import LinearRegression\n",
        "from sklearn.metrics import mean_squared_error, r2_score"
      ],
      "metadata": {
        "id": "b-gQeTXl_lKq"
      },
      "execution_count": null,
      "outputs": []
    },
    {
      "cell_type": "markdown",
      "source": [
        "**Define the regression model**"
      ],
      "metadata": {
        "id": "WVz0h3NUePrr"
      }
    },
    {
      "cell_type": "code",
      "source": [
        "# model training\n",
        "model = LinearRegression()\n",
        "model.fit(X_train, y_train)\n",
        "\n",
        "print(\"Coefficients:\", model.coef_)\n",
        "print(\"Intercept:\", model.intercept_)"
      ],
      "metadata": {
        "colab": {
          "base_uri": "https://localhost:8080/"
        },
        "id": "laI57QEnT_GM",
        "outputId": "b4f43e3b-f861-4a13-d055-b33ac2f1b216"
      },
      "execution_count": null,
      "outputs": [
        {
          "output_type": "stream",
          "name": "stdout",
          "text": [
            "Coefficients: [ -62221.19563339  -28903.26113256  111777.41847168  -37778.80436661\n",
            " -368912.50043206 -755576.08733223 1277764.94541736  159990.7607005\n",
            "  115497.55328645]\n",
            "Intercept: 2764451.630566312\n"
          ]
        }
      ]
    },
    {
      "cell_type": "markdown",
      "source": [
        "**Prediction results**"
      ],
      "metadata": {
        "id": "oQuBKuT9fY90"
      }
    },
    {
      "cell_type": "code",
      "source": [
        "# run prediction\n",
        "y_pred = model.predict(X_test)\n",
        "\n",
        "# evaluate model\n",
        "mse = mean_squared_error(y_test, y_pred)\n",
        "r2 = r2_score(y_test, y_pred)\n",
        "print(\"Mean Squared Error:\", mse)\n",
        "print(\"R2 Score: \", r2)\n",
        "\n",
        "rmse = np.sqrt(mse)\n",
        "print(\"Root Mean Squared: \", rmse)"
      ],
      "metadata": {
        "colab": {
          "base_uri": "https://localhost:8080/"
        },
        "id": "-2waaNQnke44",
        "outputId": "2db8cf88-f0c0-4839-d698-66fc2ae14d51"
      },
      "execution_count": 9,
      "outputs": [
        {
          "output_type": "stream",
          "name": "stdout",
          "text": [
            "Mean Squared Error: 12042239340599.031\n",
            "R2 Score:  0.5993339960614\n",
            "Root Mean Squared:  3470192.983192582\n"
          ]
        }
      ]
    },
    {
      "cell_type": "markdown",
      "source": [
        "test run\n"
      ],
      "metadata": {
        "id": "sKb4dJuufgFs"
      }
    },
    {
      "cell_type": "code",
      "source": [
        "# test run on the trained model\n",
        "test_input = pd.DataFrame({\n",
        "    'Location': ['Cebu'],\n",
        "    'Size (sqm)': [112],\n",
        "    'Bedrooms': [3],\n",
        "    'Year Built': [2025],\n",
        "    'Lot Size (sqm)': [120]\n",
        "})\n",
        "\n",
        "# test_input['Age'] = current_year - test_input['Year Built']\n",
        "\n",
        "test_input = pd.get_dummies(test_input, columns=['Location'])\n",
        "\n",
        "for col in X.columns:\n",
        "    if col not in test_input.columns:\n",
        "        test_input[col] = 0\n",
        "\n",
        "test_input = test_input[X.columns]  # Reorder columns to match training data\n",
        "\n",
        "# Predict the price\n",
        "predicted_price = model.predict(test_input)\n",
        "print(\"Predicted Price (PHP):\", predicted_price[0])"
      ],
      "metadata": {
        "colab": {
          "base_uri": "https://localhost:8080/"
        },
        "id": "rAE7iMSbEp-X",
        "outputId": "77cb2d4a-866a-47af-8fc5-0bbb1dc89e71"
      },
      "execution_count": null,
      "outputs": [
        {
          "output_type": "stream",
          "name": "stdout",
          "text": [
            "Predicted Price (PHP): 7800000.000000007\n"
          ]
        }
      ]
    },
    {
      "cell_type": "markdown",
      "source": [
        "Compare"
      ],
      "metadata": {
        "id": "riiiMNGqfki5"
      }
    },
    {
      "cell_type": "code",
      "source": [
        "# Compare the actual data and the predicted data\n",
        "predicted_prices.to_csv('predicted_house_prices.csv', index=False) # save result to csv\n",
        "print(\"Predictions saved to 'predicted_house_prices.csv'\")\n",
        "\n",
        "saved_data = pd.read_csv('predicted_house_prices.csv')\n",
        "\n",
        "print(saved_data)"
      ],
      "metadata": {
        "id": "fEOPqie9yFIw",
        "colab": {
          "base_uri": "https://localhost:8080/"
        },
        "outputId": "c364e077-0af8-4625-cbda-78b6525a6d4a"
      },
      "execution_count": null,
      "outputs": [
        {
          "output_type": "stream",
          "name": "stdout",
          "text": [
            "Predictions saved to 'predicted_house_prices.csv'\n",
            "     Actual     Predicted\n",
            "0   8500000  7.710002e+06\n",
            "1  19000000  2.494663e+07\n",
            "2   6500000  6.874431e+06\n"
          ]
        }
      ]
    },
    {
      "cell_type": "markdown",
      "source": [
        "**Save model**"
      ],
      "metadata": {
        "id": "tYD7RaNOfq-4"
      }
    },
    {
      "cell_type": "code",
      "source": [
        "# save model for reusability\n",
        "from joblib import dump\n",
        "from joblib import load\n",
        "dump(model, 'house_price_model.joblib') #save model"
      ],
      "metadata": {
        "id": "RLF3CxEkyF2O",
        "colab": {
          "base_uri": "https://localhost:8080/"
        },
        "outputId": "a41da3e1-1012-48c7-9aa1-e7df6a563fb4"
      },
      "execution_count": null,
      "outputs": [
        {
          "output_type": "execute_result",
          "data": {
            "text/plain": [
              "['house_price_model.joblib']"
            ]
          },
          "metadata": {},
          "execution_count": 14
        }
      ]
    },
    {
      "cell_type": "code",
      "source": [
        "# load saved model\n",
        "loaded_model = load('house_price_model.joblib')\n",
        "y_pred = loaded_model.predict(X_test)"
      ],
      "metadata": {
        "id": "oc6tN05205H0"
      },
      "execution_count": null,
      "outputs": []
    },
    {
      "cell_type": "markdown",
      "source": [
        "Running model"
      ],
      "metadata": {
        "id": "_AYHn6B4fv6L"
      }
    },
    {
      "cell_type": "code",
      "source": [
        "# running to test saved model\n",
        "# New data for multiple houses\n",
        "new_data = pd.DataFrame({\n",
        "    'Location': ['Makati'],\n",
        "    'Size (sqm)': [450],\n",
        "    'Bedrooms': [5],\n",
        "    'Lot Size (sqm)': [315],\n",
        "    'Age': [10]\n",
        "})\n",
        "\n",
        "# Preprocess the new data\n",
        "new_data = pd.get_dummies(new_data, columns=['Location'], drop_first=True)\n",
        "\n",
        "# Add missing columns and reorder to match the training data\n",
        "missing_cols = set(loaded_model.feature_names_in_) - set(new_data.columns)\n",
        "for col in missing_cols:\n",
        "    new_data[col] = 0\n",
        "new_data = new_data[loaded_model.feature_names_in_]\n",
        "\n",
        "# Predict house prices\n",
        "predictions = loaded_model.predict(new_data)\n",
        "\n",
        "# Print results\n",
        "print(\"Predicted House Prices:\", predictions)\n"
      ],
      "metadata": {
        "colab": {
          "base_uri": "https://localhost:8080/"
        },
        "id": "gRH2Crnb3vDi",
        "outputId": "23169a9c-1885-4e51-afff-f8814d40f0ff"
      },
      "execution_count": null,
      "outputs": [
        {
          "output_type": "stream",
          "name": "stdout",
          "text": [
            "Predicted House Prices: [9452496.06479387]\n"
          ]
        }
      ]
    }
  ]
}